{
 "cells": [
  {
   "cell_type": "markdown",
   "id": "773178dc",
   "metadata": {},
   "source": [
    "### Importing needed libraries"
   ]
  },
  {
   "cell_type": "code",
   "execution_count": 1,
   "id": "4495edf4",
   "metadata": {},
   "outputs": [],
   "source": [
    "import pandas as pd\n",
    "import numpy as np\n",
    "import random\n",
    "random.seed(1)"
   ]
  },
  {
   "cell_type": "markdown",
   "id": "ad885a24",
   "metadata": {},
   "source": [
    "### Creating a list with spending categories"
   ]
  },
  {
   "cell_type": "code",
   "execution_count": 3,
   "id": "c2c1b97f",
   "metadata": {},
   "outputs": [],
   "source": [
    "descriptions_list = {'Netflix':1,'Zabka':8,'Rossman':2,'Lidl':3,'H&M':0.5,'Zara':0.3,'Amazon':3,'PysznePL':7,\n",
    "              'Kino':1,'Ubezpieczenie':0.09,'Orlen':3,'PKP':1,'Rent':1,'Doctor':0.2,'Gym':1, 'Phone':1,\n",
    "             'Bills':1,'Steam':0.5,'Origin':0.2, 'Gessler':0.05,'Dentist':0.08,'Spotify':1}\n",
    "#key = company name; value = frequency(how many times a month is a person likely to make transaction at given shop/site)\n",
    "population_d = list(descriptions_list.keys())\n",
    "weights_d = list(descriptions_list.values())\n",
    "descriptions = random.choices(population_d , weights_d, k=1500)"
   ]
  },
  {
   "cell_type": "markdown",
   "id": "70baa26f",
   "metadata": {},
   "source": [
    "### Creating dates for transactions"
   ]
  },
  {
   "cell_type": "code",
   "execution_count": 4,
   "id": "575876c7",
   "metadata": {},
   "outputs": [],
   "source": [
    "dates = pd.Series(pd.date_range(\"2018\", freq=\"D\", periods=1500))"
   ]
  },
  {
   "cell_type": "markdown",
   "id": "c66017b6",
   "metadata": {},
   "source": [
    "### Creating expenses"
   ]
  },
  {
   "cell_type": "code",
   "execution_count": 5,
   "id": "d64b4849",
   "metadata": {},
   "outputs": [],
   "source": [
    "tiers = {'Netflix':1,'Zabka':2,'Rossman':2,'Lidl':2,'H&M':2,'Zara':2,'Amazon':3,'PysznePL':1,'Kino':1,'Ubezpieczenie':3,\n",
    "         'Orlen':2,'PKP':1,'Rent':3,'Doctor':2,'Gym':1, 'Phone':1, 'Bills':3,'Steam':2,'Origin':2, \n",
    "         'Gessler':2,'Dentist':2,'Spotify':1}"
   ]
  },
  {
   "cell_type": "code",
   "execution_count": 6,
   "id": "aac8b790",
   "metadata": {},
   "outputs": [],
   "source": [
    "def kwota(tier):\n",
    "    if tier == 1:\n",
    "        kwt = random.randrange(50)\n",
    "    elif tier == 2:\n",
    "        kwt = random.randrange(50,200)\n",
    "    elif tier == 3:\n",
    "        kwt = random.randrange(200,500)\n",
    "    return kwt"
   ]
  },
  {
   "cell_type": "code",
   "execution_count": 7,
   "id": "3a6e628f",
   "metadata": {},
   "outputs": [],
   "source": [
    "x = [kwota(tiers[d]) for d in descriptions]"
   ]
  },
  {
   "cell_type": "code",
   "execution_count": 8,
   "id": "d9e7fdd6",
   "metadata": {},
   "outputs": [
    {
     "data": {
      "text/html": [
       "<div>\n",
       "<style scoped>\n",
       "    .dataframe tbody tr th:only-of-type {\n",
       "        vertical-align: middle;\n",
       "    }\n",
       "\n",
       "    .dataframe tbody tr th {\n",
       "        vertical-align: top;\n",
       "    }\n",
       "\n",
       "    .dataframe thead th {\n",
       "        text-align: right;\n",
       "    }\n",
       "</style>\n",
       "<table border=\"1\" class=\"dataframe\">\n",
       "  <thead>\n",
       "    <tr style=\"text-align: right;\">\n",
       "      <th></th>\n",
       "      <th>Opis</th>\n",
       "      <th>Kwota</th>\n",
       "    </tr>\n",
       "    <tr>\n",
       "      <th>Data</th>\n",
       "      <th></th>\n",
       "      <th></th>\n",
       "    </tr>\n",
       "  </thead>\n",
       "  <tbody>\n",
       "    <tr>\n",
       "      <th>2018-01-01</th>\n",
       "      <td>Zabka</td>\n",
       "      <td>-102</td>\n",
       "    </tr>\n",
       "    <tr>\n",
       "      <th>2018-01-02</th>\n",
       "      <td>Rent</td>\n",
       "      <td>-478</td>\n",
       "    </tr>\n",
       "    <tr>\n",
       "      <th>2018-01-03</th>\n",
       "      <td>Orlen</td>\n",
       "      <td>-69</td>\n",
       "    </tr>\n",
       "    <tr>\n",
       "      <th>2018-01-04</th>\n",
       "      <td>Rossman</td>\n",
       "      <td>-190</td>\n",
       "    </tr>\n",
       "    <tr>\n",
       "      <th>2018-01-05</th>\n",
       "      <td>Amazon</td>\n",
       "      <td>-361</td>\n",
       "    </tr>\n",
       "    <tr>\n",
       "      <th>...</th>\n",
       "      <td>...</td>\n",
       "      <td>...</td>\n",
       "    </tr>\n",
       "    <tr>\n",
       "      <th>2022-02-04</th>\n",
       "      <td>Zabka</td>\n",
       "      <td>-65</td>\n",
       "    </tr>\n",
       "    <tr>\n",
       "      <th>2022-02-05</th>\n",
       "      <td>Rossman</td>\n",
       "      <td>-167</td>\n",
       "    </tr>\n",
       "    <tr>\n",
       "      <th>2022-02-06</th>\n",
       "      <td>Amazon</td>\n",
       "      <td>-256</td>\n",
       "    </tr>\n",
       "    <tr>\n",
       "      <th>2022-02-07</th>\n",
       "      <td>Orlen</td>\n",
       "      <td>-109</td>\n",
       "    </tr>\n",
       "    <tr>\n",
       "      <th>2022-02-08</th>\n",
       "      <td>Rossman</td>\n",
       "      <td>-166</td>\n",
       "    </tr>\n",
       "  </tbody>\n",
       "</table>\n",
       "<p>1500 rows × 2 columns</p>\n",
       "</div>"
      ],
      "text/plain": [
       "               Opis  Kwota\n",
       "Data                      \n",
       "2018-01-01    Zabka   -102\n",
       "2018-01-02     Rent   -478\n",
       "2018-01-03    Orlen    -69\n",
       "2018-01-04  Rossman   -190\n",
       "2018-01-05   Amazon   -361\n",
       "...             ...    ...\n",
       "2022-02-04    Zabka    -65\n",
       "2022-02-05  Rossman   -167\n",
       "2022-02-06   Amazon   -256\n",
       "2022-02-07    Orlen   -109\n",
       "2022-02-08  Rossman   -166\n",
       "\n",
       "[1500 rows x 2 columns]"
      ]
     },
     "execution_count": 8,
     "metadata": {},
     "output_type": "execute_result"
    }
   ],
   "source": [
    "sample_dataset = pd.DataFrame({'Opis':descriptions,'Kwota':x}, index=dates)\n",
    "sample_dataset.index.name ='Data'\n",
    "sample_dataset['Kwota']=sample_dataset['Kwota']*-1\n",
    "sample_dataset"
   ]
  },
  {
   "cell_type": "markdown",
   "id": "cabe444f",
   "metadata": {},
   "source": [
    "### Creating incomes"
   ]
  },
  {
   "cell_type": "code",
   "execution_count": 9,
   "id": "0828e8d0",
   "metadata": {
    "scrolled": true
   },
   "outputs": [],
   "source": [
    "base_income = sample_dataset.groupby([(sample_dataset.index.year), (sample_dataset.index.month)]).sum().min() * -1 + 300\n",
    "#I want the income to always exceed monthly spendings."
   ]
  },
  {
   "cell_type": "code",
   "execution_count": 10,
   "id": "a60bf854",
   "metadata": {},
   "outputs": [],
   "source": [
    "base_salary = float(base_income)\n",
    "salaries = [base_salary * (1+i*0.01) for i in range(50)]\n",
    "dates_s = pd.Series(pd.date_range(\"2018\", freq=\"M\", periods=1500//30))\n",
    "bonus = [random.randrange(1000,2000) for i in range(0,1499,180)]\n",
    "dates_b = []\n",
    "for i in range(len(bonus)):\n",
    "    index =  i * 180\n",
    "    dates_b.append(dates[index])\n",
    "salaries_df = pd.DataFrame({'Opis':\"Przelew Przychodzący\",'Kwota':salaries}, dates_s)\n",
    "bonus_df = pd.DataFrame({'Opis':'Przelew Przychodzący','Kwota':bonus}, dates_b)\n",
    "salaries_df.index.name = \"Data\"\n",
    "bonus_df.index.name = \"Data\""
   ]
  },
  {
   "cell_type": "markdown",
   "id": "8bcc8b6b",
   "metadata": {},
   "source": [
    "### Combining Data and Exporting"
   ]
  },
  {
   "cell_type": "code",
   "execution_count": 11,
   "id": "06e30928",
   "metadata": {},
   "outputs": [
    {
     "data": {
      "text/html": [
       "<div>\n",
       "<style scoped>\n",
       "    .dataframe tbody tr th:only-of-type {\n",
       "        vertical-align: middle;\n",
       "    }\n",
       "\n",
       "    .dataframe tbody tr th {\n",
       "        vertical-align: top;\n",
       "    }\n",
       "\n",
       "    .dataframe thead th {\n",
       "        text-align: right;\n",
       "    }\n",
       "</style>\n",
       "<table border=\"1\" class=\"dataframe\">\n",
       "  <thead>\n",
       "    <tr style=\"text-align: right;\">\n",
       "      <th></th>\n",
       "      <th>Opis</th>\n",
       "      <th>Kwota</th>\n",
       "    </tr>\n",
       "    <tr>\n",
       "      <th>Data</th>\n",
       "      <th></th>\n",
       "      <th></th>\n",
       "    </tr>\n",
       "  </thead>\n",
       "  <tbody>\n",
       "    <tr>\n",
       "      <th>2018-01-01</th>\n",
       "      <td>Zabka</td>\n",
       "      <td>-102.00</td>\n",
       "    </tr>\n",
       "    <tr>\n",
       "      <th>2018-01-01</th>\n",
       "      <td>Przelew Przychodzący</td>\n",
       "      <td>1359.00</td>\n",
       "    </tr>\n",
       "    <tr>\n",
       "      <th>2018-01-02</th>\n",
       "      <td>Rent</td>\n",
       "      <td>-478.00</td>\n",
       "    </tr>\n",
       "    <tr>\n",
       "      <th>2018-01-03</th>\n",
       "      <td>Orlen</td>\n",
       "      <td>-69.00</td>\n",
       "    </tr>\n",
       "    <tr>\n",
       "      <th>2018-01-04</th>\n",
       "      <td>Rossman</td>\n",
       "      <td>-190.00</td>\n",
       "    </tr>\n",
       "    <tr>\n",
       "      <th>...</th>\n",
       "      <td>...</td>\n",
       "      <td>...</td>\n",
       "    </tr>\n",
       "    <tr>\n",
       "      <th>2022-02-05</th>\n",
       "      <td>Rossman</td>\n",
       "      <td>-167.00</td>\n",
       "    </tr>\n",
       "    <tr>\n",
       "      <th>2022-02-06</th>\n",
       "      <td>Amazon</td>\n",
       "      <td>-256.00</td>\n",
       "    </tr>\n",
       "    <tr>\n",
       "      <th>2022-02-07</th>\n",
       "      <td>Orlen</td>\n",
       "      <td>-109.00</td>\n",
       "    </tr>\n",
       "    <tr>\n",
       "      <th>2022-02-08</th>\n",
       "      <td>Rossman</td>\n",
       "      <td>-166.00</td>\n",
       "    </tr>\n",
       "    <tr>\n",
       "      <th>2022-02-28</th>\n",
       "      <td>Przelew Przychodzący</td>\n",
       "      <td>8768.65</td>\n",
       "    </tr>\n",
       "  </tbody>\n",
       "</table>\n",
       "<p>1559 rows × 2 columns</p>\n",
       "</div>"
      ],
      "text/plain": [
       "                            Opis    Kwota\n",
       "Data                                     \n",
       "2018-01-01                 Zabka  -102.00\n",
       "2018-01-01  Przelew Przychodzący  1359.00\n",
       "2018-01-02                  Rent  -478.00\n",
       "2018-01-03                 Orlen   -69.00\n",
       "2018-01-04               Rossman  -190.00\n",
       "...                          ...      ...\n",
       "2022-02-05               Rossman  -167.00\n",
       "2022-02-06                Amazon  -256.00\n",
       "2022-02-07                 Orlen  -109.00\n",
       "2022-02-08               Rossman  -166.00\n",
       "2022-02-28  Przelew Przychodzący  8768.65\n",
       "\n",
       "[1559 rows x 2 columns]"
      ]
     },
     "execution_count": 11,
     "metadata": {},
     "output_type": "execute_result"
    }
   ],
   "source": [
    "bank_Statement  = pd.concat([sample_dataset,salaries_df,bonus_df]).reset_index().sort_values(['Data','Kwota']).set_index('Data')\n",
    "#bank_Statement.sort_index()\n",
    "bank_Statement"
   ]
  },
  {
   "cell_type": "code",
   "execution_count": 12,
   "id": "f19cd395",
   "metadata": {},
   "outputs": [],
   "source": [
    "bank_Statement.to_csv('Bank_Statement.csv')"
   ]
  }
 ],
 "metadata": {
  "kernelspec": {
   "display_name": "Python 3",
   "language": "python",
   "name": "python3"
  },
  "language_info": {
   "codemirror_mode": {
    "name": "ipython",
    "version": 3
   },
   "file_extension": ".py",
   "mimetype": "text/x-python",
   "name": "python",
   "nbconvert_exporter": "python",
   "pygments_lexer": "ipython3",
   "version": "3.8.8"
  }
 },
 "nbformat": 4,
 "nbformat_minor": 5
}
